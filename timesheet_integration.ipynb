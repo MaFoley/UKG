{
 "cells": [
  {
   "cell_type": "code",
   "execution_count": null,
   "id": "6c95ab64",
   "metadata": {},
   "outputs": [],
   "source": [
    "\n",
    "import utm_load\n",
    "from datetime import datetime\n",
    "\n",
    "startdate = datetime(2025,4,6)\n",
    "enddate = datetime(2025,4,12)\n",
    "utm_load.load_ukg(startdate, enddate)"
   ]
  },
  {
   "cell_type": "code",
   "execution_count": null,
   "id": "85797e1d",
   "metadata": {},
   "outputs": [],
   "source": [
    "import CMiC_Project_Import\n",
    "CMiC_Project_Import.load_cmic_projects()"
   ]
  },
  {
   "cell_type": "code",
   "execution_count": null,
   "id": "b2274e2f",
   "metadata": {},
   "outputs": [],
   "source": [
    "import employee_push\n",
    "employee_push.main()"
   ]
  },
  {
   "cell_type": "code",
   "execution_count": null,
   "id": "89ddad35",
   "metadata": {},
   "outputs": [],
   "source": [
    "import cmic\n",
    "cmic.post_timesheets_to_CMiC()"
   ]
  }
 ],
 "metadata": {
  "kernelspec": {
   "display_name": "UKG-C3cuCWIF",
   "language": "python",
   "name": "python3"
  },
  "language_info": {
   "codemirror_mode": {
    "name": "ipython",
    "version": 3
   },
   "file_extension": ".py",
   "mimetype": "text/x-python",
   "name": "python",
   "nbconvert_exporter": "python",
   "pygments_lexer": "ipython3",
   "version": "3.12.3"
  }
 },
 "nbformat": 4,
 "nbformat_minor": 5
}

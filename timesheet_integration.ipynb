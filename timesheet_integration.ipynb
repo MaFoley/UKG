{
 "cells": [
  {
   "cell_type": "markdown",
   "id": "4e277ddd",
   "metadata": {},
   "source": [
    "# UKG to CMiC Integration Middleware\n",
    "This python project pulls time entry data from UKG Time Management (UTM) along with associated employee information, transforms it into the necessary format for upload to CMiC pytimesheets, and posts the entries. Check log files for errors."
   ]
  },
  {
   "cell_type": "code",
   "execution_count": 1,
   "id": "6c95ab64",
   "metadata": {},
   "outputs": [
    {
     "data": {
      "text/html": [
       "<div>\n",
       "<style scoped>\n",
       "    .dataframe tbody tr th:only-of-type {\n",
       "        vertical-align: middle;\n",
       "    }\n",
       "\n",
       "    .dataframe tbody tr th {\n",
       "        vertical-align: top;\n",
       "    }\n",
       "\n",
       "    .dataframe thead th {\n",
       "        text-align: right;\n",
       "    }\n",
       "</style>\n",
       "<table border=\"1\" class=\"dataframe\">\n",
       "  <thead>\n",
       "    <tr style=\"text-align: right;\">\n",
       "      <th></th>\n",
       "      <th>Period</th>\n",
       "      <th>Start Date</th>\n",
       "      <th>End Date</th>\n",
       "      <th>Process Date</th>\n",
       "      <th>Posting Date</th>\n",
       "      <th>Pay Date</th>\n",
       "      <th>Month</th>\n",
       "      <th>Posted Flag</th>\n",
       "      <th>Close Etimesheet Period</th>\n",
       "      <th>Pay Run</th>\n",
       "    </tr>\n",
       "  </thead>\n",
       "  <tbody>\n",
       "    <tr>\n",
       "      <th>65</th>\n",
       "      <td>40</td>\n",
       "      <td>2025-09-28</td>\n",
       "      <td>2025-10-04</td>\n",
       "      <td>2025-10-04</td>\n",
       "      <td>2025-10-04</td>\n",
       "      <td>2025-10-04</td>\n",
       "      <td>10</td>\n",
       "      <td>N</td>\n",
       "      <td>N</td>\n",
       "      <td>W</td>\n",
       "    </tr>\n",
       "  </tbody>\n",
       "</table>\n",
       "</div>"
      ],
      "text/plain": [
       "    Period Start Date   End Date Process Date Posting Date   Pay Date  Month  \\\n",
       "65      40 2025-09-28 2025-10-04   2025-10-04   2025-10-04 2025-10-04     10   \n",
       "\n",
       "   Posted Flag Close Etimesheet Period Pay Run  \n",
       "65           N                       N       W  "
      ]
     },
     "execution_count": 1,
     "metadata": {},
     "output_type": "execute_result"
    }
   ],
   "source": [
    "import pandas as pd\n",
    "from datetime import datetime\n",
    "from pay_period import find_period_by_date,payRuntoPayGroup\n",
    "\n",
    "selectionDate = datetime(2025,10,3)\n",
    "#B or W for biweekly or weekly payruns\n",
    "payRun = 'W'\n",
    "PAYGROUPID = payRuntoPayGroup[payRun]\n",
    "pay_period_file = \"DataFiles/Pay_Period.csv\"\n",
    "df = pd.read_csv(pay_period_file, skiprows=2)\n",
    "period_df = find_period_by_date(df,payRun,selectionDate)\n",
    "period_df"
   ]
  },
  {
   "cell_type": "code",
   "execution_count": 2,
   "id": "2d04422b",
   "metadata": {},
   "outputs": [
    {
     "name": "stdout",
     "output_type": "stream",
     "text": [
      "startdate=Timestamp('2025-09-28 00:00:00'), enddate=Timestamp('2025-10-04 00:00:00'), payRun='W', PAYGROUPID=43\n"
     ]
    }
   ],
   "source": [
    "startdate = period_df['Start Date'].iloc[0]\n",
    "enddate = period_df['End Date'].iloc[0]\n",
    "print(f\"{startdate=}, {enddate=}, {payRun=}, {PAYGROUPID=}\")"
   ]
  },
  {
   "cell_type": "code",
   "execution_count": 3,
   "id": "13d38327",
   "metadata": {},
   "outputs": [
    {
     "name": "stdout",
     "output_type": "stream",
     "text": [
      "2025-10-16 11:22:19,090 | INFO | utm_load | trying OrgLevel1...\n",
      "2025-10-16 11:22:19,090 | INFO | utm_load | trying OrgLevel1...\n",
      "2025-10-16 11:22:19,621 | INFO | utm_load | record counts for OrgLevel1:298\n",
      "2025-10-16 11:22:19,621 | INFO | utm_load | record counts for OrgLevel1:298\n",
      "2025-10-16 11:22:19,623 | INFO | utm_load | trying OrgLevel2...\n",
      "2025-10-16 11:22:19,623 | INFO | utm_load | trying OrgLevel2...\n",
      "2025-10-16 11:22:19,935 | INFO | utm_load | record counts for OrgLevel2:598\n",
      "2025-10-16 11:22:19,935 | INFO | utm_load | record counts for OrgLevel2:598\n",
      "2025-10-16 11:22:19,937 | INFO | utm_load | trying OrgLevel3...\n",
      "2025-10-16 11:22:19,937 | INFO | utm_load | trying OrgLevel3...\n",
      "2025-10-16 11:22:20,070 | INFO | utm_load | record counts for OrgLevel3:149\n",
      "2025-10-16 11:22:20,070 | INFO | utm_load | record counts for OrgLevel3:149\n",
      "2025-10-16 11:22:20,072 | INFO | utm_load | trying OrgLevel4...\n",
      "2025-10-16 11:22:20,072 | INFO | utm_load | trying OrgLevel4...\n",
      "2025-10-16 11:22:20,180 | INFO | utm_load | record counts for OrgLevel4:1\n",
      "2025-10-16 11:22:20,180 | INFO | utm_load | record counts for OrgLevel4:1\n",
      "2025-10-16 11:22:20,182 | INFO | utm_load | trying Location...\n",
      "2025-10-16 11:22:20,182 | INFO | utm_load | trying Location...\n",
      "2025-10-16 11:22:20,732 | INFO | utm_load | record counts for Location:326\n",
      "2025-10-16 11:22:20,732 | INFO | utm_load | record counts for Location:326\n",
      "2025-10-16 11:22:20,733 | INFO | utm_load | trying Paygroup...\n",
      "2025-10-16 11:22:20,733 | INFO | utm_load | trying Paygroup...\n",
      "2025-10-16 11:22:20,856 | INFO | utm_load | record counts for Paygroup:41\n",
      "2025-10-16 11:22:20,856 | INFO | utm_load | record counts for Paygroup:41\n",
      "2025-10-16 11:22:20,858 | INFO | utm_load | trying Project...\n",
      "2025-10-16 11:22:20,858 | INFO | utm_load | trying Project...\n",
      "2025-10-16 11:22:21,063 | INFO | utm_load | record counts for Project:535\n",
      "2025-10-16 11:22:21,063 | INFO | utm_load | record counts for Project:535\n",
      "2025-10-16 11:22:21,066 | INFO | utm_load | trying Job...\n",
      "2025-10-16 11:22:21,066 | INFO | utm_load | trying Job...\n",
      "2025-10-16 11:22:21,326 | INFO | utm_load | record counts for Job:1075\n",
      "2025-10-16 11:22:21,326 | INFO | utm_load | record counts for Job:1075\n",
      "2025-10-16 11:22:21,327 | INFO | utm_load | trying Employee...\n",
      "2025-10-16 11:22:21,327 | INFO | utm_load | trying Employee...\n",
      "2025-10-16 11:22:21,329 | INFO | utm_load | main_endpoint.params=None\n",
      "2025-10-16 11:22:21,329 | INFO | utm_load | main_endpoint.params=None\n",
      "2025-10-16 11:22:22,476 | INFO | utm_load | record count for Employee: 2070\n",
      "2025-10-16 11:22:22,476 | INFO | utm_load | record count for Employee: 2070\n",
      "2025-10-16 11:22:22,477 | INFO | utm_load | trying Time...\n",
      "2025-10-16 11:22:22,477 | INFO | utm_load | trying Time...\n",
      "2025-10-16 11:22:22,479 | INFO | utm_load | main_endpoint.params='$filter=WorkDate ge 2025-09-28 and WorkDate le 2025-10-04 and PaygroupId eq 43and (OrgLevel1Id eq 263 or OrgLevel1Id eq 261)'\n",
      "2025-10-16 11:22:22,479 | INFO | utm_load | main_endpoint.params='$filter=WorkDate ge 2025-09-28 and WorkDate le 2025-10-04 and PaygroupId eq 43and (OrgLevel1Id eq 263 or OrgLevel1Id eq 261)'\n",
      "2025-10-16 11:22:23,495 | INFO | utm_load | record count for Time: 25\n",
      "2025-10-16 11:22:23,495 | INFO | utm_load | record count for Time: 25\n",
      "2025-10-16 11:22:23,534 | INFO | ukg | EmpId                    string[python]\n",
      "Id                                int64\n",
      "CardNum                           int64\n",
      "SupId                            object\n",
      "SupName                          object\n",
      "FirstName                        object\n",
      "LastName                         object\n",
      "Active                           object\n",
      "Email                            object\n",
      "BirthDate                        object\n",
      "HireDate                         object\n",
      "PayMethod                         int64\n",
      "PayType                           int64\n",
      "HoliRule                          int64\n",
      "PayCate                           int64\n",
      "PaygroupId                        int64\n",
      "LocationId                        int64\n",
      "JobId                             int64\n",
      "ProjectId                         int64\n",
      "OrgLevel1Id                       int64\n",
      "OrgLevel2Id                       int64\n",
      "OrgLevel3Id                       int64\n",
      "OrgLevel4Id                       int64\n",
      "PayPolicyId                       int64\n",
      "ShiftId                           int64\n",
      "AccessGroupId                     int64\n",
      "OrgLevel1_Name           string[python]\n",
      "OrgLevel1_Description            object\n",
      "OrgLevel2_Name                   object\n",
      "OrgLevel2_Description            object\n",
      "OrgLevel3_Name                   object\n",
      "OrgLevel3_Description            object\n",
      "OrgLevel4_Name                   object\n",
      "OrgLevel4_Description            object\n",
      "Location_Name                    object\n",
      "Location_Description             object\n",
      "Paygroup_Name                    object\n",
      "Paygroup_Description             object\n",
      "Project_Name                     object\n",
      "Project_Description              object\n",
      "Job_Name                         object\n",
      "Job_Description                  object\n",
      "shortEmpId               string[python]\n",
      "dtype: object\n",
      "2025-10-16 11:22:23,539 | INFO | ukg | filtering results based on companyId='PQCD4'\n",
      "2025-10-16 11:22:23,665 | INFO | ukg | writing to file. ./DataFiles/pay_classifications.csv len(df)=595\n",
      "2025-10-16 11:22:23,675 | INFO | ukg | writing to file. ./DataFiles/charge_rates.csv len(df)=203\n",
      "2025-10-16 11:22:23,681 | INFO | ukg | writing to file. ./DataFiles/ukg_charge_rates.csv len(df)=196\n",
      "2025-10-16 11:22:23,907 | INFO | cmic.CMiCAPIClient | creating instance of CMiCAPIClient\n",
      "2025-10-16 11:22:23,910 | INFO | cmic | requestion records from jc-rest-api/rest/1/jcjob with limit=500\n",
      "2025-10-16 11:22:23,911 | INFO | cmic | Requesting offset=0...\n",
      "2025-10-16 11:22:26,460 | INFO | cmic | Retrieved 500 records — has_more=True\n",
      "2025-10-16 11:22:26,461 | INFO | cmic | Requesting offset=500...\n",
      "2025-10-16 11:22:27,741 | INFO | cmic | Retrieved 500 records — has_more=True\n",
      "2025-10-16 11:22:27,742 | INFO | cmic | Requesting offset=1000...\n",
      "2025-10-16 11:22:29,015 | INFO | cmic | Retrieved 500 records — has_more=True\n",
      "2025-10-16 11:22:29,016 | INFO | cmic | Requesting offset=1500...\n",
      "2025-10-16 11:22:29,675 | INFO | cmic | Retrieved 192 records — has_more=False\n",
      "2025-10-16 11:22:29,676 | INFO | cmic | No more pages. Loaded 1692 items\n",
      "2025-10-16 11:22:29,745 | INFO | cmic | Saved filtered project data to DataFiles/CMiC_Project_Summary.csv\n"
     ]
    }
   ],
   "source": [
    "import utm_load\n",
    "utm_load.load_ukg(startdate, enddate, PAYGROUPID)\n",
    "\n",
    "from cmic import load_cmic_projects\n",
    "load_cmic_projects()"
   ]
  },
  {
   "cell_type": "code",
   "execution_count": 4,
   "id": "b2274e2f",
   "metadata": {},
   "outputs": [
    {
     "name": "stdout",
     "output_type": "stream",
     "text": [
      "2025-10-16 11:25:59,274 | INFO | cmic.CMiCAPIClient | creating instance of CMiCAPIClient\n",
      "2025-10-16 11:25:59,283 | INFO | cmic | requestion records from hcm-rest-api/rest/1/pytrades?fields=TrdCode with limit=500\n",
      "2025-10-16 11:25:59,286 | INFO | cmic | Requesting offset=0...\n",
      "2025-10-16 11:25:59,427 | INFO | cmic | Retrieved 153 records — has_more=False\n",
      "2025-10-16 11:25:59,429 | INFO | cmic | No more pages. Loaded 153 items\n",
      "2025-10-16 11:25:59,442 | INFO | cmic | Found 5 matching employees. Starting POSTs...\n",
      "\n",
      "2025-10-16 11:25:59,445 | INFO | cmic | requestion records from hcm-rest-api/rest/1/pyemployee?fields=EmpChargeOutRate,EmpNo with limit=500\n",
      "2025-10-16 11:25:59,447 | INFO | cmic | Requesting offset=0...\n",
      "2025-10-16 11:26:01,344 | INFO | cmic | Retrieved 276 records — has_more=False\n",
      "2025-10-16 11:26:01,345 | INFO | cmic | No more pages. Loaded 276 items\n",
      "2025-10-16 11:26:01,354 | INFO | cmic | writing 0 records to file\n"
     ]
    }
   ],
   "source": [
    "from cmic import employee_push\n",
    "startdate_str = startdate.strftime(\"%Y-%m-%d\")\n",
    "employee_push(startdate_str)"
   ]
  },
  {
   "cell_type": "code",
   "execution_count": 5,
   "id": "89ddad35",
   "metadata": {},
   "outputs": [
    {
     "name": "stdout",
     "output_type": "stream",
     "text": [
      "2025-10-16 11:27:03,035 | INFO | cmic.CMiCAPIClient | creating instance of CMiCAPIClient\n",
      "2025-10-16 11:27:07,933 | INFO | cmic | Post log written to DataFiles/PostResult/PostResults_10162025_112707.csv\n"
     ]
    }
   ],
   "source": [
    "from cmic import post_timesheets_to_CMiC\n",
    "import pandas as pd\n",
    "import matplotlib as mpl\n",
    "df_timesheet_post_results = post_timesheets_to_CMiC('B',testing=True)"
   ]
  },
  {
   "cell_type": "code",
   "execution_count": 6,
   "id": "2c74ead0",
   "metadata": {},
   "outputs": [
    {
     "data": {
      "text/html": [
       "<div>\n",
       "<style scoped>\n",
       "    .dataframe tbody tr th:only-of-type {\n",
       "        vertical-align: middle;\n",
       "    }\n",
       "\n",
       "    .dataframe tbody tr th {\n",
       "        vertical-align: top;\n",
       "    }\n",
       "\n",
       "    .dataframe thead th {\n",
       "        text-align: right;\n",
       "    }\n",
       "</style>\n",
       "<table border=\"1\" class=\"dataframe\">\n",
       "  <thead>\n",
       "    <tr style=\"text-align: right;\">\n",
       "      <th></th>\n",
       "      <th>EmpNo</th>\n",
       "      <th>WorkDate</th>\n",
       "      <th>PrnCode</th>\n",
       "      <th>Status</th>\n",
       "      <th>Response</th>\n",
       "      <th>Hours</th>\n",
       "      <th>SourceFile</th>\n",
       "    </tr>\n",
       "  </thead>\n",
       "  <tbody>\n",
       "    <tr>\n",
       "      <th>count</th>\n",
       "      <td>25.000000</td>\n",
       "      <td>25</td>\n",
       "      <td>25</td>\n",
       "      <td>25.0</td>\n",
       "      <td>25</td>\n",
       "      <td>25.0</td>\n",
       "      <td>25</td>\n",
       "    </tr>\n",
       "    <tr>\n",
       "      <th>unique</th>\n",
       "      <td>NaN</td>\n",
       "      <td>5</td>\n",
       "      <td>1</td>\n",
       "      <td>NaN</td>\n",
       "      <td>1</td>\n",
       "      <td>NaN</td>\n",
       "      <td>1</td>\n",
       "    </tr>\n",
       "    <tr>\n",
       "      <th>top</th>\n",
       "      <td>NaN</td>\n",
       "      <td>2025-09-29</td>\n",
       "      <td>W</td>\n",
       "      <td>NaN</td>\n",
       "      <td>{ }</td>\n",
       "      <td>NaN</td>\n",
       "      <td>PostResults_10162025_112707.csv</td>\n",
       "    </tr>\n",
       "    <tr>\n",
       "      <th>freq</th>\n",
       "      <td>NaN</td>\n",
       "      <td>5</td>\n",
       "      <td>25</td>\n",
       "      <td>NaN</td>\n",
       "      <td>25</td>\n",
       "      <td>NaN</td>\n",
       "      <td>25</td>\n",
       "    </tr>\n",
       "    <tr>\n",
       "      <th>mean</th>\n",
       "      <td>223576.800000</td>\n",
       "      <td>NaN</td>\n",
       "      <td>NaN</td>\n",
       "      <td>201.0</td>\n",
       "      <td>NaN</td>\n",
       "      <td>8.0</td>\n",
       "      <td>NaN</td>\n",
       "    </tr>\n",
       "    <tr>\n",
       "      <th>std</th>\n",
       "      <td>25.847308</td>\n",
       "      <td>NaN</td>\n",
       "      <td>NaN</td>\n",
       "      <td>0.0</td>\n",
       "      <td>NaN</td>\n",
       "      <td>0.0</td>\n",
       "      <td>NaN</td>\n",
       "    </tr>\n",
       "    <tr>\n",
       "      <th>min</th>\n",
       "      <td>223543.000000</td>\n",
       "      <td>NaN</td>\n",
       "      <td>NaN</td>\n",
       "      <td>201.0</td>\n",
       "      <td>NaN</td>\n",
       "      <td>8.0</td>\n",
       "      <td>NaN</td>\n",
       "    </tr>\n",
       "    <tr>\n",
       "      <th>25%</th>\n",
       "      <td>223550.000000</td>\n",
       "      <td>NaN</td>\n",
       "      <td>NaN</td>\n",
       "      <td>201.0</td>\n",
       "      <td>NaN</td>\n",
       "      <td>8.0</td>\n",
       "      <td>NaN</td>\n",
       "    </tr>\n",
       "    <tr>\n",
       "      <th>50%</th>\n",
       "      <td>223588.000000</td>\n",
       "      <td>NaN</td>\n",
       "      <td>NaN</td>\n",
       "      <td>201.0</td>\n",
       "      <td>NaN</td>\n",
       "      <td>8.0</td>\n",
       "      <td>NaN</td>\n",
       "    </tr>\n",
       "    <tr>\n",
       "      <th>75%</th>\n",
       "      <td>223601.000000</td>\n",
       "      <td>NaN</td>\n",
       "      <td>NaN</td>\n",
       "      <td>201.0</td>\n",
       "      <td>NaN</td>\n",
       "      <td>8.0</td>\n",
       "      <td>NaN</td>\n",
       "    </tr>\n",
       "    <tr>\n",
       "      <th>max</th>\n",
       "      <td>223602.000000</td>\n",
       "      <td>NaN</td>\n",
       "      <td>NaN</td>\n",
       "      <td>201.0</td>\n",
       "      <td>NaN</td>\n",
       "      <td>8.0</td>\n",
       "      <td>NaN</td>\n",
       "    </tr>\n",
       "  </tbody>\n",
       "</table>\n",
       "</div>"
      ],
      "text/plain": [
       "                EmpNo    WorkDate PrnCode  Status Response  Hours  \\\n",
       "count       25.000000          25      25    25.0       25   25.0   \n",
       "unique            NaN           5       1     NaN        1    NaN   \n",
       "top               NaN  2025-09-29       W     NaN      { }    NaN   \n",
       "freq              NaN           5      25     NaN       25    NaN   \n",
       "mean    223576.800000         NaN     NaN   201.0      NaN    8.0   \n",
       "std         25.847308         NaN     NaN     0.0      NaN    0.0   \n",
       "min     223543.000000         NaN     NaN   201.0      NaN    8.0   \n",
       "25%     223550.000000         NaN     NaN   201.0      NaN    8.0   \n",
       "50%     223588.000000         NaN     NaN   201.0      NaN    8.0   \n",
       "75%     223601.000000         NaN     NaN   201.0      NaN    8.0   \n",
       "max     223602.000000         NaN     NaN   201.0      NaN    8.0   \n",
       "\n",
       "                             SourceFile  \n",
       "count                                25  \n",
       "unique                                1  \n",
       "top     PostResults_10162025_112707.csv  \n",
       "freq                                 25  \n",
       "mean                                NaN  \n",
       "std                                 NaN  \n",
       "min                                 NaN  \n",
       "25%                                 NaN  \n",
       "50%                                 NaN  \n",
       "75%                                 NaN  \n",
       "max                                 NaN  "
      ]
     },
     "execution_count": 6,
     "metadata": {},
     "output_type": "execute_result"
    }
   ],
   "source": [
    "df_timesheet_post_results.describe(include='all')"
   ]
  },
  {
   "cell_type": "code",
   "execution_count": null,
   "id": "7f263c3b",
   "metadata": {},
   "outputs": [],
   "source": [
    "#since PostResults can contain multiple retries, filter to only most recent attempt\n",
    "filtered_post_results = df_timesheet_post_results.groupby(['EmpNo','WorkDate'])['Status'].idxmax()\n",
    "df_filtered_post_results = df_timesheet_post_results.loc[filtered_post_results]"
   ]
  },
  {
   "cell_type": "code",
   "execution_count": 9,
   "id": "a554399c",
   "metadata": {},
   "outputs": [
    {
     "data": {
      "image/png": "[encoded data removed]",
      "text/plain": [
       "<Figure size 640x480 with 1 Axes>"
      ]
     },
     "metadata": {},
     "output_type": "display_data"
    }
   ],
   "source": [
    "plot_data = df_filtered_post_results.pivot_table(index='WorkDate',columns='Status',values='Hours',aggfunc='count')\n",
    "chart = plot_data.plot(kind='bar')\\\n",
    "        .legend(loc=(1.05,0.5))\\\n",
    "        .set_title('POST Responses')\n",
    "chart"
   ]
  },
  {
   "cell_type": "code",
   "execution_count": 10,
   "id": "6bc428ff",
   "metadata": {},
   "outputs": [
    {
     "data": {
      "text/html": [
       "<div>\n",
       "<style scoped>\n",
       "    .dataframe tbody tr th:only-of-type {\n",
       "        vertical-align: middle;\n",
       "    }\n",
       "\n",
       "    .dataframe tbody tr th {\n",
       "        vertical-align: top;\n",
       "    }\n",
       "\n",
       "    .dataframe thead th {\n",
       "        text-align: right;\n",
       "    }\n",
       "</style>\n",
       "<table border=\"1\" class=\"dataframe\">\n",
       "  <thead>\n",
       "    <tr style=\"text-align: right;\">\n",
       "      <th></th>\n",
       "      <th>EmpNo</th>\n",
       "      <th>WorkDate</th>\n",
       "      <th>PrnCode</th>\n",
       "      <th>Status</th>\n",
       "      <th>Response</th>\n",
       "      <th>Hours</th>\n",
       "      <th>SourceFile</th>\n",
       "    </tr>\n",
       "  </thead>\n",
       "  <tbody>\n",
       "  </tbody>\n",
       "</table>\n",
       "</div>"
      ],
      "text/plain": [
       "Empty DataFrame\n",
       "Columns: [EmpNo, WorkDate, PrnCode, Status, Response, Hours, SourceFile]\n",
       "Index: []"
      ]
     },
     "execution_count": 10,
     "metadata": {},
     "output_type": "execute_result"
    }
   ],
   "source": [
    "df_filtered_post_results.loc[df_timesheet_post_results[\"Status\"]==\"400\"]"
   ]
  },
  {
   "cell_type": "code",
   "execution_count": 11,
   "id": "65c4d7ec",
   "metadata": {},
   "outputs": [
    {
     "data": {
      "text/plain": [
       "EmpNo         25\n",
       "WorkDate      25\n",
       "PrnCode       25\n",
       "Status        25\n",
       "Response      25\n",
       "Hours         25\n",
       "SourceFile    25\n",
       "dtype: int64"
      ]
     },
     "execution_count": 11,
     "metadata": {},
     "output_type": "execute_result"
    }
   ],
   "source": [
    "df_filtered_post_results.loc[df_timesheet_post_results[\"Status\"]==201].count()"
   ]
  }
 ],
 "metadata": {
  "kernelspec": {
   "display_name": ".venv",
   "language": "python",
   "name": "python3"
  },
  "language_info": {
   "codemirror_mode": {
    "name": "ipython",
    "version": 3
   },
   "file_extension": ".py",
   "mimetype": "text/x-python",
   "name": "python",
   "nbconvert_exporter": "python",
   "pygments_lexer": "ipython3",
   "version": "3.12.10"
  }
 },
 "nbformat": 4,
 "nbformat_minor": 5
}

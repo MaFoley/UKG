{
 "cells": [
  {
   "cell_type": "markdown",
   "id": "4e277ddd",
   "metadata": {},
   "source": [
    "# UKG to CMiC Integration Middleware\n",
    "This python project pulls time entry data from UKG Time Management (UTM) along with associated employee information, transforms it into the necessary format for upload to CMiC pytimesheets, and posts the entries. Check log files for errors."
   ]
  },
  {
   "cell_type": "code",
   "execution_count": null,
   "id": "6c95ab64",
   "metadata": {},
   "outputs": [],
   "source": [
    "import pandas as pd\n",
    "from datetime import datetime\n",
    "from pay_period import find_period_by_date,payRuntoPayGroup\n",
    "\n",
    "selectionDate = datetime(2025,10,3)\n",
    "#B or W for biweekly or weekly payruns\n",
    "payRun = 'W'\n",
    "PAYGROUPID = payRuntoPayGroup[payRun]\n",
    "pay_period_file = \"DataFiles/Pay_Period.csv\"\n",
    "df = pd.read_csv(pay_period_file, skiprows=2)\n",
    "period_df = find_period_by_date(df,payRun,selectionDate)\n",
    "period_df"
   ]
  },
  {
   "cell_type": "code",
   "execution_count": null,
   "id": "2d04422b",
   "metadata": {},
   "outputs": [],
   "source": [
    "startdate = period_df['Start Date'].iloc[0]\n",
    "enddate = period_df['End Date'].iloc[0]\n",
    "print(f\"{startdate=}, {enddate=}, {payRun=}, {PAYGROUPID=}\")"
   ]
  },
  {
   "cell_type": "code",
   "execution_count": null,
   "id": "13d38327",
   "metadata": {},
   "outputs": [],
   "source": [
    "import utm_load\n",
    "utm_load.load_ukg(startdate, enddate, PAYGROUPID)\n",
    "\n",
    "from cmic import load_cmic_projects\n",
    "load_cmic_projects()"
   ]
  },
  {
   "cell_type": "code",
   "execution_count": null,
   "id": "b2274e2f",
   "metadata": {},
   "outputs": [],
   "source": [
    "from cmic import employee_push\n",
    "startdate_str = startdate.strftime(\"%Y-%m-%d\")\n",
    "employee_push(startdate_str)"
   ]
  },
  {
   "cell_type": "code",
   "execution_count": null,
   "id": "89ddad35",
   "metadata": {},
   "outputs": [],
   "source": [
    "from cmic import post_timesheets_to_CMiC\n",
    "import pandas as pd\n",
    "import matplotlib as mpl\n",
    "df_timesheet_post_results = post_timesheets_to_CMiC('B',testing=True)"
   ]
  },
  {
   "cell_type": "code",
   "execution_count": null,
   "id": "2c74ead0",
   "metadata": {},
   "outputs": [],
   "source": [
    "df_timesheet_post_results.describe(include='all')"
   ]
  },
  {
   "cell_type": "code",
   "execution_count": null,
   "id": "a554399c",
   "metadata": {},
   "outputs": [],
   "source": [
    "plot_data = df_timesheet_post_results.pivot_table(index='WorkDate',columns='Status',values='Hours',aggfunc='count')\n",
    "chart = plot_data.plot(kind='bar')\\\n",
    "        .legend(loc=(1.05,0.5))\\\n",
    "        .set_title('POST Responses')\n",
    "chart"
   ]
  },
  {
   "cell_type": "code",
   "execution_count": null,
   "id": "6bc428ff",
   "metadata": {},
   "outputs": [],
   "source": [
    "df_timesheet_post_results.loc[df_timesheet_post_results[\"Status\"]==\"400\"]"
   ]
  },
  {
   "cell_type": "code",
   "execution_count": null,
   "id": "65c4d7ec",
   "metadata": {},
   "outputs": [],
   "source": [
    "df_timesheet_post_results.loc[df_timesheet_post_results[\"Status\"]==201].count()"
   ]
  }
 ],
 "metadata": {
  "kernelspec": {
   "display_name": ".venv (3.12.3)",
   "language": "python",
   "name": "python3"
  },
  "language_info": {
   "codemirror_mode": {
    "name": "ipython",
    "version": 3
   },
   "file_extension": ".py",
   "mimetype": "text/x-python",
   "name": "python",
   "nbconvert_exporter": "python",
   "pygments_lexer": "ipython3",
   "version": "3.12.3"
  }
 },
 "nbformat": 4,
 "nbformat_minor": 5
}

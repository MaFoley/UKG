{
 "cells": [
  {
   "cell_type": "markdown",
   "id": "4e277ddd",
   "metadata": {},
   "source": [
    "# UKG to CMiC Integration Middleware\n",
    "This python project pulls time entry data from UKG Time Management (UTM) along with associated employee information, transforms it into the necessary format for upload to CMiC pytimesheets, and posts the entries. Check log files for errors."
   ]
  },
  {
   "cell_type": "code",
   "execution_count": 1,
   "id": "6c95ab64",
   "metadata": {},
   "outputs": [
    {
     "data": {
      "text/html": [
       "<div>\n",
       "<style scoped>\n",
       "    .dataframe tbody tr th:only-of-type {\n",
       "        vertical-align: middle;\n",
       "    }\n",
       "\n",
       "    .dataframe tbody tr th {\n",
       "        vertical-align: top;\n",
       "    }\n",
       "\n",
       "    .dataframe thead th {\n",
       "        text-align: right;\n",
       "    }\n",
       "</style>\n",
       "<table border=\"1\" class=\"dataframe\">\n",
       "  <thead>\n",
       "    <tr style=\"text-align: right;\">\n",
       "      <th></th>\n",
       "      <th>Period</th>\n",
       "      <th>Start Date</th>\n",
       "      <th>End Date</th>\n",
       "      <th>Process Date</th>\n",
       "      <th>Posting Date</th>\n",
       "      <th>Pay Date</th>\n",
       "      <th>Month</th>\n",
       "      <th>Posted Flag</th>\n",
       "      <th>Close Etimesheet Period</th>\n",
       "      <th>Pay Run</th>\n",
       "    </tr>\n",
       "  </thead>\n",
       "  <tbody>\n",
       "    <tr>\n",
       "      <th>19</th>\n",
       "      <td>20</td>\n",
       "      <td>2025-09-21</td>\n",
       "      <td>2025-10-04</td>\n",
       "      <td>2025-10-04</td>\n",
       "      <td>2025-10-04</td>\n",
       "      <td>2025-10-04</td>\n",
       "      <td>10</td>\n",
       "      <td>N</td>\n",
       "      <td>N</td>\n",
       "      <td>B</td>\n",
       "    </tr>\n",
       "  </tbody>\n",
       "</table>\n",
       "</div>"
      ],
      "text/plain": [
       "    Period Start Date   End Date Process Date Posting Date   Pay Date  Month  \\\n",
       "19      20 2025-09-21 2025-10-04   2025-10-04   2025-10-04 2025-10-04     10   \n",
       "\n",
       "   Posted Flag Close Etimesheet Period Pay Run  \n",
       "19           N                       N       B  "
      ]
     },
     "execution_count": 1,
     "metadata": {},
     "output_type": "execute_result"
    }
   ],
   "source": [
    "import pandas as pd\n",
    "from datetime import datetime\n",
    "from pay_period import find_period_by_date,payRuntoPayGroup\n",
    "\n",
    "selectionDate = datetime(2025,10,3)\n",
    "#B or W for biweekly or weekly payruns\n",
    "payRun = 'B'\n",
    "PAYGROUPID = payRuntoPayGroup[payRun]\n",
    "pay_period_file = \"DataFiles/Pay_Period.csv\"\n",
    "df = pd.read_csv(pay_period_file, skiprows=2)\n",
    "period_df = find_period_by_date(df,payRun,selectionDate)\n",
    "period_df"
   ]
  },
  {
   "cell_type": "code",
   "execution_count": 2,
   "id": "2d04422b",
   "metadata": {},
   "outputs": [
    {
     "name": "stdout",
     "output_type": "stream",
     "text": [
      "startdate=Timestamp('2025-09-21 00:00:00'), enddate=Timestamp('2025-10-04 00:00:00'), payRun='B', PAYGROUPID=18\n"
     ]
    }
   ],
   "source": [
    "startdate = period_df['Start Date'].iloc[0]\n",
    "enddate = period_df['End Date'].iloc[0]\n",
    "print(f\"{startdate=}, {enddate=}, {payRun=}, {PAYGROUPID=}\")"
   ]
  },
  {
   "cell_type": "code",
   "execution_count": 3,
   "id": "13d38327",
   "metadata": {},
   "outputs": [
    {
     "name": "stdout",
     "output_type": "stream",
     "text": [
      "trying OrgLevel1...record counts for OrgLevel1:298\n",
      "trying OrgLevel2...record counts for OrgLevel2:598\n",
      "trying OrgLevel3...record counts for OrgLevel3:149\n",
      "trying OrgLevel4...record counts for OrgLevel4:1\n",
      "trying Location...record counts for Location:326\n",
      "trying Paygroup...record counts for Paygroup:41\n",
      "trying Project...record counts for Project:530\n",
      "trying Job...record counts for Job:1075\n",
      "trying Employee...record count for Employee: 2069\n",
      "trying Time...record count for Time: 2094\n",
      "Requesting offset 0...Retrieved 500 records — hasMore: True\n",
      "Requesting offset 500...Retrieved 500 records — hasMore: True\n",
      "Requesting offset 1000...Retrieved 500 records — hasMore: True\n",
      "Requesting offset 1500...Retrieved 193 records — hasMore: False\n",
      "No more pages. Loaded 1693 items\n",
      "Saved filtered project data to DataFiles/CMiC_Project_Summary.csv\n"
     ]
    }
   ],
   "source": [
    "import utm_load\n",
    "utm_load.load_ukg(startdate, enddate, PAYGROUPID)\n",
    "\n",
    "from cmic import load_cmic_projects\n",
    "load_cmic_projects()"
   ]
  },
  {
   "cell_type": "code",
   "execution_count": 4,
   "id": "b2274e2f",
   "metadata": {},
   "outputs": [
    {
     "name": "stdout",
     "output_type": "stream",
     "text": [
      "Requesting offset 0...Retrieved 153 records — hasMore: False\n",
      "No more pages. Loaded 153 items\n",
      "📦 Found 204 matching employees. Starting POSTs...\n",
      "\n",
      "Requesting offset 0...Retrieved 274 records — hasMore: False\n",
      "No more pages. Loaded 274 items\n",
      "writing 56 records to file\n"
     ]
    }
   ],
   "source": [
    "from cmic import employee_push\n",
    "startdate_str = startdate.strftime(\"%Y-%m-%d\")\n",
    "employee_push(startdate_str)"
   ]
  },
  {
   "cell_type": "code",
   "execution_count": 6,
   "id": "89ddad35",
   "metadata": {},
   "outputs": [
    {
     "name": "stdout",
     "output_type": "stream",
     "text": [
      "🧾 Ingesting: PostResults_05132025_153610.csv\n",
      "🧾 Ingesting: PostResults_05202025_101055.csv\n",
      "🧾 Ingesting: PostResults_05202025_102127.csv\n",
      "🧾 Ingesting: PostResults_05202025_123912.csv\n",
      "🧾 Ingesting: PostResults_05202025_130008.csv\n",
      "🧾 Ingesting: PostResults_05222025_085905.csv\n",
      "Error inserting row from PostResults_05222025_085905.csv: 'EmpNo'\n",
      "Error inserting row from PostResults_05222025_085905.csv: 'EmpNo'\n",
      "Error inserting row from PostResults_05222025_085905.csv: 'EmpNo'\n",
      "Error inserting row from PostResults_05222025_085905.csv: 'EmpNo'\n",
      "Error inserting row from PostResults_05222025_085905.csv: 'EmpNo'\n",
      "Error inserting row from PostResults_05222025_085905.csv: 'EmpNo'\n",
      "Error inserting row from PostResults_05222025_085905.csv: 'EmpNo'\n",
      "Error inserting row from PostResults_05222025_085905.csv: 'EmpNo'\n",
      "Error inserting row from PostResults_05222025_085905.csv: 'EmpNo'\n",
      "Error inserting row from PostResults_05222025_085905.csv: 'EmpNo'\n",
      "Error inserting row from PostResults_05222025_085905.csv: 'EmpNo'\n",
      "Error inserting row from PostResults_05222025_085905.csv: 'EmpNo'\n",
      "Error inserting row from PostResults_05222025_085905.csv: 'EmpNo'\n",
      "Error inserting row from PostResults_05222025_085905.csv: 'EmpNo'\n",
      "Error inserting row from PostResults_05222025_085905.csv: 'EmpNo'\n",
      "Error inserting row from PostResults_05222025_085905.csv: 'EmpNo'\n",
      "Error inserting row from PostResults_05222025_085905.csv: 'EmpNo'\n",
      "Error inserting row from PostResults_05222025_085905.csv: 'EmpNo'\n",
      "Error inserting row from PostResults_05222025_085905.csv: 'EmpNo'\n",
      "Error inserting row from PostResults_05222025_085905.csv: 'EmpNo'\n",
      "Error inserting row from PostResults_05222025_085905.csv: 'EmpNo'\n",
      "🧾 Ingesting: PostResults_05282025_154039.csv\n",
      "🧾 Ingesting: PostResults_05292025_122903.csv\n",
      "🧾 Ingesting: PostResults_06092025_165355.csv\n",
      "🧾 Ingesting: PostResults_06172025_083050.csv\n",
      "🧾 Ingesting: PostResults_06172025_092005.csv\n",
      "🧾 Ingesting: PostResults_06232025_084323.csv\n",
      "🧾 Ingesting: PostResults_06272025_100147.csv\n",
      "🧾 Ingesting: PostResults_06272025_105624.csv\n",
      "🧾 Ingesting: PostResults_06272025_105955.csv\n",
      "🧾 Ingesting: PostResults_06272025_141403.csv\n",
      "🧾 Ingesting: PostResults_06272025_144310.csv\n",
      "🧾 Ingesting: PostResults_07092025_125429.csv\n",
      "🧾 Ingesting: PostResults_07102025_095728.csv\n",
      "🧾 Ingesting: PostResults_07182025_135210.csv\n",
      "🧾 Ingesting: PostResults_07182025_135409.csv\n",
      "🧾 Ingesting: PostResults_07182025_140921.csv\n",
      "🧾 Ingesting: PostResults_07212025_112149.csv\n",
      "🧾 Ingesting: PostResults_07222025_100306.csv\n",
      "🧾 Ingesting: PostResults_07232025_100621.csv\n",
      "🧾 Ingesting: PostResults_07232025_104735.csv\n",
      "🧾 Ingesting: PostResults_07232025_113948.csv\n",
      "🧾 Ingesting: PostResults_07232025_133424.csv\n",
      "🧾 Ingesting: PostResults_07232025_133805.csv\n",
      "🧾 Ingesting: PostResults_07242025_115747.csv\n",
      "🧾 Ingesting: PostResults_08072025_081650.csv\n",
      "🧾 Ingesting: PostResults_08072025_082606.csv\n",
      "🧾 Ingesting: PostResults_08182025_081203.csv\n",
      "🧾 Ingesting: PostResults_08182025_081407.csv\n",
      "🧾 Ingesting: PostResults_08182025_082819.csv\n",
      "🧾 Ingesting: PostResults_08182025_083007.csv\n",
      "🧾 Ingesting: PostResults_08202025_130015.csv\n",
      "🧾 Ingesting: PostResults_08212025_115748.csv\n",
      "🧾 Ingesting: PostResults_08212025_120018.csv\n",
      "🧾 Ingesting: PostResults_08212025_121344.csv\n",
      "🧾 Ingesting: PostResults_08212025_121735.csv\n",
      "🧾 Ingesting: PostResults_08272025_092509.csv\n",
      "🧾 Ingesting: PostResults_08272025_104418.csv\n",
      "🧾 Ingesting: PostResults_08272025_132635.csv\n",
      "🧾 Ingesting: PostResults_09032025_094927.csv\n",
      "🧾 Ingesting: PostResults_09032025_095037.csv\n",
      "🧾 Ingesting: PostResults_09092025_095129.csv\n",
      "🧾 Ingesting: PostResults_09122025_142859.csv\n",
      "🧾 Ingesting: PostResults_09152025_083615.csv\n",
      "🧾 Ingesting: PostResults_09152025_084056.csv\n",
      "🧾 Ingesting: PostResults_09242025_084425.csv\n",
      "🧾 Ingesting: PostResults_09242025_092839.csv\n",
      "🧾 Ingesting: PostResults_09252025_140140.csv\n",
      "🧾 Ingesting: PostResults_09252025_142802.csv\n",
      "🧾 Ingesting: PostResults_09252025_143037.csv\n",
      "🧾 Ingesting: PostResults_09292025_100927.csv\n",
      "🧾 Ingesting: PostResults_09292025_101926.csv\n",
      "🧾 Ingesting: PostResults_10072025_162705.csv\n",
      "🧾 Ingesting: PostResults_10092025_102921.csv\n",
      "Post log written to DataFiles/PostResult/PostResults_10092025_105504.csv\n"
     ]
    }
   ],
   "source": [
    "from cmic import post_timesheets_to_CMiC\n",
    "import pandas as pd\n",
    "import matplotlib as mpl\n",
    "df_timesheet_post_results = post_timesheets_to_CMiC('B',testing=False)"
   ]
  },
  {
   "cell_type": "code",
   "execution_count": 7,
   "id": "2c74ead0",
   "metadata": {},
   "outputs": [
    {
     "data": {
      "text/html": [
       "<div>\n",
       "<style scoped>\n",
       "    .dataframe tbody tr th:only-of-type {\n",
       "        vertical-align: middle;\n",
       "    }\n",
       "\n",
       "    .dataframe tbody tr th {\n",
       "        vertical-align: top;\n",
       "    }\n",
       "\n",
       "    .dataframe thead th {\n",
       "        text-align: right;\n",
       "    }\n",
       "</style>\n",
       "<table border=\"1\" class=\"dataframe\">\n",
       "  <thead>\n",
       "    <tr style=\"text-align: right;\">\n",
       "      <th></th>\n",
       "      <th>EmpNo</th>\n",
       "      <th>WorkDate</th>\n",
       "      <th>PrnCode</th>\n",
       "      <th>Status</th>\n",
       "      <th>Response</th>\n",
       "      <th>Hours</th>\n",
       "      <th>SourceFile</th>\n",
       "    </tr>\n",
       "  </thead>\n",
       "  <tbody>\n",
       "    <tr>\n",
       "      <th>count</th>\n",
       "      <td>25.000000</td>\n",
       "      <td>25</td>\n",
       "      <td>25</td>\n",
       "      <td>25.0</td>\n",
       "      <td>25</td>\n",
       "      <td>25.0</td>\n",
       "      <td>25</td>\n",
       "    </tr>\n",
       "    <tr>\n",
       "      <th>unique</th>\n",
       "      <td>NaN</td>\n",
       "      <td>5</td>\n",
       "      <td>1</td>\n",
       "      <td>NaN</td>\n",
       "      <td>1</td>\n",
       "      <td>NaN</td>\n",
       "      <td>1</td>\n",
       "    </tr>\n",
       "    <tr>\n",
       "      <th>top</th>\n",
       "      <td>NaN</td>\n",
       "      <td>2025-09-29</td>\n",
       "      <td>W</td>\n",
       "      <td>NaN</td>\n",
       "      <td>{ }</td>\n",
       "      <td>NaN</td>\n",
       "      <td>PostResults_10072025_162705.csv</td>\n",
       "    </tr>\n",
       "    <tr>\n",
       "      <th>freq</th>\n",
       "      <td>NaN</td>\n",
       "      <td>5</td>\n",
       "      <td>25</td>\n",
       "      <td>NaN</td>\n",
       "      <td>25</td>\n",
       "      <td>NaN</td>\n",
       "      <td>25</td>\n",
       "    </tr>\n",
       "    <tr>\n",
       "      <th>mean</th>\n",
       "      <td>223576.800000</td>\n",
       "      <td>NaN</td>\n",
       "      <td>NaN</td>\n",
       "      <td>201.0</td>\n",
       "      <td>NaN</td>\n",
       "      <td>8.0</td>\n",
       "      <td>NaN</td>\n",
       "    </tr>\n",
       "    <tr>\n",
       "      <th>std</th>\n",
       "      <td>25.847308</td>\n",
       "      <td>NaN</td>\n",
       "      <td>NaN</td>\n",
       "      <td>0.0</td>\n",
       "      <td>NaN</td>\n",
       "      <td>0.0</td>\n",
       "      <td>NaN</td>\n",
       "    </tr>\n",
       "    <tr>\n",
       "      <th>min</th>\n",
       "      <td>223543.000000</td>\n",
       "      <td>NaN</td>\n",
       "      <td>NaN</td>\n",
       "      <td>201.0</td>\n",
       "      <td>NaN</td>\n",
       "      <td>8.0</td>\n",
       "      <td>NaN</td>\n",
       "    </tr>\n",
       "    <tr>\n",
       "      <th>25%</th>\n",
       "      <td>223550.000000</td>\n",
       "      <td>NaN</td>\n",
       "      <td>NaN</td>\n",
       "      <td>201.0</td>\n",
       "      <td>NaN</td>\n",
       "      <td>8.0</td>\n",
       "      <td>NaN</td>\n",
       "    </tr>\n",
       "    <tr>\n",
       "      <th>50%</th>\n",
       "      <td>223588.000000</td>\n",
       "      <td>NaN</td>\n",
       "      <td>NaN</td>\n",
       "      <td>201.0</td>\n",
       "      <td>NaN</td>\n",
       "      <td>8.0</td>\n",
       "      <td>NaN</td>\n",
       "    </tr>\n",
       "    <tr>\n",
       "      <th>75%</th>\n",
       "      <td>223601.000000</td>\n",
       "      <td>NaN</td>\n",
       "      <td>NaN</td>\n",
       "      <td>201.0</td>\n",
       "      <td>NaN</td>\n",
       "      <td>8.0</td>\n",
       "      <td>NaN</td>\n",
       "    </tr>\n",
       "    <tr>\n",
       "      <th>max</th>\n",
       "      <td>223602.000000</td>\n",
       "      <td>NaN</td>\n",
       "      <td>NaN</td>\n",
       "      <td>201.0</td>\n",
       "      <td>NaN</td>\n",
       "      <td>8.0</td>\n",
       "      <td>NaN</td>\n",
       "    </tr>\n",
       "  </tbody>\n",
       "</table>\n",
       "</div>"
      ],
      "text/plain": [
       "                EmpNo    WorkDate PrnCode  Status Response  Hours  \\\n",
       "count       25.000000          25      25    25.0       25   25.0   \n",
       "unique            NaN           5       1     NaN        1    NaN   \n",
       "top               NaN  2025-09-29       W     NaN      { }    NaN   \n",
       "freq              NaN           5      25     NaN       25    NaN   \n",
       "mean    223576.800000         NaN     NaN   201.0      NaN    8.0   \n",
       "std         25.847308         NaN     NaN     0.0      NaN    0.0   \n",
       "min     223543.000000         NaN     NaN   201.0      NaN    8.0   \n",
       "25%     223550.000000         NaN     NaN   201.0      NaN    8.0   \n",
       "50%     223588.000000         NaN     NaN   201.0      NaN    8.0   \n",
       "75%     223601.000000         NaN     NaN   201.0      NaN    8.0   \n",
       "max     223602.000000         NaN     NaN   201.0      NaN    8.0   \n",
       "\n",
       "                             SourceFile  \n",
       "count                                25  \n",
       "unique                                1  \n",
       "top     PostResults_10072025_162705.csv  \n",
       "freq                                 25  \n",
       "mean                                NaN  \n",
       "std                                 NaN  \n",
       "min                                 NaN  \n",
       "25%                                 NaN  \n",
       "50%                                 NaN  \n",
       "75%                                 NaN  \n",
       "max                                 NaN  "
      ]
     },
     "execution_count": 7,
     "metadata": {},
     "output_type": "execute_result"
    }
   ],
   "source": [
    "df_timesheet_post_results.describe(include='all')"
   ]
  },
  {
   "cell_type": "code",
   "execution_count": 8,
   "id": "a554399c",
   "metadata": {},
   "outputs": [
    {
     "data": {
      "image/png": "[encoded data removed]",
      "text/plain": [
       "<Figure size 640x480 with 1 Axes>"
      ]
     },
     "metadata": {},
     "output_type": "display_data"
    }
   ],
   "source": [
    "plot_data = df_timesheet_post_results.pivot_table(index='WorkDate',columns='Status',values='Hours',aggfunc='count')\n",
    "chart = plot_data.plot(kind='bar')\\\n",
    "        .legend(loc=(1.05,0.5))\\\n",
    "        .set_title('POST Responses')\n",
    "chart"
   ]
  },
  {
   "cell_type": "code",
   "execution_count": 9,
   "id": "6bc428ff",
   "metadata": {},
   "outputs": [
    {
     "data": {
      "text/html": [
       "<div>\n",
       "<style scoped>\n",
       "    .dataframe tbody tr th:only-of-type {\n",
       "        vertical-align: middle;\n",
       "    }\n",
       "\n",
       "    .dataframe tbody tr th {\n",
       "        vertical-align: top;\n",
       "    }\n",
       "\n",
       "    .dataframe thead th {\n",
       "        text-align: right;\n",
       "    }\n",
       "</style>\n",
       "<table border=\"1\" class=\"dataframe\">\n",
       "  <thead>\n",
       "    <tr style=\"text-align: right;\">\n",
       "      <th></th>\n",
       "      <th>EmpNo</th>\n",
       "      <th>WorkDate</th>\n",
       "      <th>PrnCode</th>\n",
       "      <th>Status</th>\n",
       "      <th>Response</th>\n",
       "      <th>Hours</th>\n",
       "      <th>SourceFile</th>\n",
       "    </tr>\n",
       "  </thead>\n",
       "  <tbody>\n",
       "  </tbody>\n",
       "</table>\n",
       "</div>"
      ],
      "text/plain": [
       "Empty DataFrame\n",
       "Columns: [EmpNo, WorkDate, PrnCode, Status, Response, Hours, SourceFile]\n",
       "Index: []"
      ]
     },
     "execution_count": 9,
     "metadata": {},
     "output_type": "execute_result"
    }
   ],
   "source": [
    "df_timesheet_post_results.loc[df_timesheet_post_results[\"Status\"]==\"400\"]"
   ]
  },
  {
   "cell_type": "code",
   "execution_count": 15,
   "id": "65c4d7ec",
   "metadata": {},
   "outputs": [
    {
     "data": {
      "text/plain": [
       "EmpNo         25\n",
       "WorkDate      25\n",
       "PrnCode       25\n",
       "Status        25\n",
       "Response      25\n",
       "Hours         25\n",
       "SourceFile    25\n",
       "dtype: int64"
      ]
     },
     "execution_count": 15,
     "metadata": {},
     "output_type": "execute_result"
    }
   ],
   "source": [
    "df_timesheet_post_results.loc[df_timesheet_post_results[\"Status\"]==201].count()"
   ]
  }
 ],
 "metadata": {
  "kernelspec": {
   "display_name": ".venv",
   "language": "python",
   "name": "python3"
  },
  "language_info": {
   "codemirror_mode": {
    "name": "ipython",
    "version": 3
   },
   "file_extension": ".py",
   "mimetype": "text/x-python",
   "name": "python",
   "nbconvert_exporter": "python",
   "pygments_lexer": "ipython3",
   "version": "3.12.10"
  }
 },
 "nbformat": 4,
 "nbformat_minor": 5
}

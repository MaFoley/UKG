{
 "cells": [
  {
   "cell_type": "markdown",
   "id": "4e277ddd",
   "metadata": {},
   "source": [
    "# UKG to CMiC Integration Middleware\n",
    "This python project pulls time entry data from UKG Time Management (UTM) along with associated employee information, transforms it into the necessary format for upload to CMiC pytimesheets, and posts the entries. Check log files for errors."
   ]
  },
  {
   "cell_type": "code",
   "execution_count": 1,
   "id": "6c95ab64",
   "metadata": {},
   "outputs": [
    {
     "name": "stdout",
     "output_type": "stream",
     "text": [
      "trying OrgLevel1...record counts for OrgLevel1:298\n",
      "trying OrgLevel2...record counts for OrgLevel2:598\n",
      "trying OrgLevel3...record counts for OrgLevel3:126\n",
      "trying OrgLevel4...record counts for OrgLevel4:1\n",
      "trying Location...record counts for Location:324\n",
      "trying Paygroup...record counts for Paygroup:41\n",
      "trying Project...record counts for Project:450\n",
      "trying Job...record counts for Job:1068\n",
      "trying Employee...trying Time...\n",
      "record counts for Time:1169\n"
     ]
    }
   ],
   "source": [
    "\n",
    "import utm_load\n",
    "import cmic\n",
    "import employee_push\n",
    "import CMiC_Project_Import\n",
    "from datetime import datetime\n",
    "\n",
    "startdate = datetime(2025,4,6)\n",
    "enddate = datetime(2025,4,12)\n",
    "utm_load.load_ukg(startdate, enddate)"
   ]
  },
  {
   "cell_type": "code",
   "execution_count": null,
   "id": "85797e1d",
   "metadata": {},
   "outputs": [],
   "source": [
    "CMiC_Project_Import.load_cmic_projects()"
   ]
  },
  {
   "cell_type": "code",
   "execution_count": 2,
   "id": "b2274e2f",
   "metadata": {},
   "outputs": [
    {
     "name": "stdout",
     "output_type": "stream",
     "text": [
      "📦 Found 1354 matching employees. Starting POSTs...\n",
      "\n",
      "writing 1354 records to file\n"
     ]
    },
    {
     "name": "stderr",
     "output_type": "stream",
     "text": [
      "\n",
      "KeyboardInterrupt\n",
      "\n"
     ]
    }
   ],
   "source": [
    "employee_push.main()"
   ]
  },
  {
   "cell_type": "code",
   "execution_count": null,
   "id": "89ddad35",
   "metadata": {},
   "outputs": [],
   "source": [
    "cmic.post_timesheets_to_CMiC()"
   ]
  }
 ],
 "metadata": {
  "kernelspec": {
   "display_name": ".venv",
   "language": "python",
   "name": "python3"
  },
  "language_info": {
   "codemirror_mode": {
    "name": "ipython",
    "version": 3
   },
   "file_extension": ".py",
   "mimetype": "text/x-python",
   "name": "python",
   "nbconvert_exporter": "python",
   "pygments_lexer": "ipython3",
   "version": "3.12.8"
  }
 },
 "nbformat": 4,
 "nbformat_minor": 5
}
